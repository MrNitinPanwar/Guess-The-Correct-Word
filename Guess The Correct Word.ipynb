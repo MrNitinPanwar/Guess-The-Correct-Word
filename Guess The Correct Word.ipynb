{
 "cells": [
  {
   "cell_type": "code",
   "execution_count": null,
   "id": "7c14bc0c-6c0d-4bb4-a3de-fbdc721c6a95",
   "metadata": {},
   "outputs": [
    {
     "name": "stdout",
     "output_type": "stream",
     "text": [
      "__ple\n"
     ]
    }
   ],
   "source": [
    "import random\n",
    "fruits=[\"apple\",\"mango\",\"banana\",\"grapes\",\"orange\",\"strawberry\",\"kivi\",\"watermelon\",\"pineapple\",\"peach\",\"pear\",\"cherry\",\"blueberry\",\"raspberry\",\"plum\",\"lemon\",\"lime\",\"coconut\",\"avocado\",\"pomegranate\",\"apricot\",\"cantaloupe\",\"fig\",\"guava\",\"papaya\"]\n",
    "total=0\n",
    "for i in range(len(fruits)):\n",
    "    x=(fruits[i])\n",
    "    s=[k for k in range(len(x))]\n",
    "    \n",
    "    fi=random.choice(s)\n",
    "    s.remove(fi)\n",
    "    se=random.choice(s)\n",
    "    for j in range(len(x)):\n",
    "        \n",
    "        if j==fi or j==se:\n",
    "            print(\"_\",end=\"\")\n",
    "        else:\n",
    "            print(x[j],end=\"\")\n",
    "    print()\n",
    "    f=input(\"𝐆𝐮𝐞𝐬𝐬 𝐓𝐡𝐞 𝐖𝐨𝐫𝐝\")\n",
    "    if f==fruits[i]:\n",
    "        total=total+5\n",
    "        print(\"𝐂𝐨𝐫𝐫𝐞𝐜𝐭\")\n",
    "        print(\"𝐏𝐨𝐢𝐧𝐭𝐬 =\",total)\n",
    "        print(\"_________________________________________________________________________________________________________________________________________________________\")\n",
    "        print(\"                                                                                                                                                         \")\n",
    "    else:\n",
    "        print(\"𝐖𝐫𝐨𝐧𝐠 𝐆𝐮𝐞𝐬𝐬\")\n",
    "        print(\"𝐏𝐨𝐢𝐧𝐭𝐬\",total)\n",
    "        print(\"<<=========== 𝓨𝓞𝓤 𝓐𝓡𝓔 𝓓𝓔𝓐𝓓 ===========>>\")\n",
    "        break"
   ]
  },
  {
   "cell_type": "code",
   "execution_count": null,
   "id": "5f3f7db5",
   "metadata": {},
   "outputs": [],
   "source": []
  }
 ],
 "metadata": {
  "kernelspec": {
   "display_name": "Python 3 (ipykernel)",
   "language": "python",
   "name": "python3"
  },
  "language_info": {
   "codemirror_mode": {
    "name": "ipython",
    "version": 3
   },
   "file_extension": ".py",
   "mimetype": "text/x-python",
   "name": "python",
   "nbconvert_exporter": "python",
   "pygments_lexer": "ipython3",
   "version": "3.12.0"
  }
 },
 "nbformat": 4,
 "nbformat_minor": 5
}
